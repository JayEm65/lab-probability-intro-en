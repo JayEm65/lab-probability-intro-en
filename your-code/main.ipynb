{
 "cells": [
  {
   "cell_type": "markdown",
   "metadata": {},
   "source": [
    "# Probability"
   ]
  },
  {
   "cell_type": "markdown",
   "metadata": {},
   "source": [
    "## Challenge 1\n",
    "There is a box with 10 white balls, 12 red balls and 8 black balls. Calculate the probability of:\n",
    "* Taking a white ball out.\n",
    "* Taking a white ball on first extraction and a black ball out on second extraction without replacing the first one.\n",
    "* Taking a white ball on first extraction and a black ball out on second extraction replacing the first one.\n",
    "* Taking 3 balls and them being all different colours."
   ]
  },
  {
   "cell_type": "code",
   "execution_count": 2,
   "metadata": {},
   "outputs": [
    {
     "name": "stdout",
     "output_type": "stream",
     "text": [
      "Probability of drawing a white ball: 0.333\n",
      "Probability of white then black without replacement: 0.092\n",
      "Probability of white then black with replacement: 0.089\n",
      "Probability of drawing 3 balls of different colors: 0.236\n"
     ]
    }
   ],
   "source": [
    "# Total number of balls\n",
    "white = 10\n",
    "red = 12\n",
    "black = 8\n",
    "total_balls = white + red + black\n",
    "\n",
    "# Simple probability of drawing a white ball\n",
    "p_white = white / total_balls\n",
    "print(f\"Probability of drawing a white ball: {p_white:.3f}\")\n",
    "\n",
    "# First draw: white\n",
    "# Second draw: black, without replacement (1 less ball in total)\n",
    "p_white_then_black_no_replace = (white / total_balls) * (black / (total_balls - 1))\n",
    "print(f\"Probability of white then black without replacement: {p_white_then_black_no_replace:.3f}\")\n",
    "\n",
    "# With replacement: total stays the same for both draws\n",
    "p_white_then_black_replace = (white / total_balls) * (black / total_balls)\n",
    "print(f\"Probability of white then black with replacement: {p_white_then_black_replace:.3f}\")\n",
    "\n",
    "from math import comb\n",
    "\n",
    "# Number of favorable combinations (one of each color)\n",
    "favorable_combinations = white * red * black\n",
    "\n",
    "# Total possible 3-ball combinations (unordered)\n",
    "total_combinations = comb(total_balls, 3)\n",
    "\n",
    "p_all_diff_colors = favorable_combinations / total_combinations\n",
    "print(f\"Probability of drawing 3 balls of different colors: {p_all_diff_colors:.3f}\")\n",
    "\n"
   ]
  },
  {
   "cell_type": "markdown",
   "metadata": {},
   "source": [
    "## Challenge 2\n",
    "\n",
    "You want to go on picnic on Saturday. You hate rain, and would know to plan your weekend. To help you make a decision, you gather the following data about rainy days:\n",
    "\n",
    "* 40% of all days are cloudy.\n",
    "* About 50% of cloudy days are rainy. \n",
    "* About 20% of non-cloudy days are rainy.\n",
    "\n",
    "What is the chance of rain during next Saturday?"
   ]
  },
  {
   "cell_type": "code",
   "execution_count": 3,
   "metadata": {},
   "outputs": [
    {
     "name": "stdout",
     "output_type": "stream",
     "text": [
      "Estimated chance of rain: 32.00%\n"
     ]
    }
   ],
   "source": [
    "# Base probabilities\n",
    "p_cloudy = 0.4\n",
    "p_rain_given_cloudy = 0.5\n",
    "p_rain_given_clear = 0.2\n",
    "\n",
    "# Total probability of rain using law of total probability\n",
    "p_rain = (p_cloudy * p_rain_given_cloudy) + ((1 - p_cloudy) * p_rain_given_clear)\n",
    "\n",
    "print(f\"Estimated chance of rain: {p_rain:.2%}\")\n"
   ]
  },
  {
   "cell_type": "markdown",
   "metadata": {},
   "source": [
    "## Challenge 3\n",
    "\n",
    "A and B are events of a probability such that $P(A) = 0.3$, $P(B) = 0.6$ and $P(A \\cap B) = 0.1$\n",
    "\n",
    "Which of the following statements are true?  \n",
    "**HINT: draw a big Venn Diagram by your side**  \n",
    "* $P(\\overline{A}) = 0.7$\n",
    "* $P(A \\cup B) = 0.6$\n",
    "* $P(A \\cap \\overline{B}) = 0.2$\n",
    "* $P(A \\cup \\overline{A}) = 1$  \n",
    "* $P(A \\cap (B \\cup \\overline{B})) = 0.4$\n",
    "* $P(\\overline{A} \\cap \\overline{B}) = 0.3$\n",
    "* $P(\\overline{A \\cap B}) = 0.9$"
   ]
  },
  {
   "cell_type": "code",
   "execution_count": 4,
   "metadata": {},
   "outputs": [
    {
     "name": "stdout",
     "output_type": "stream",
     "text": [
      "P(not A): 0.7 → TRUE\n",
      "P(A or B): 0.8 → FALSE (if claimed otherwise)\n",
      "P(A and not B): 0.2 → TRUE\n",
      "P(A or not A): 1 → TRUE\n",
      "P(A and (not B or B)) = 0.3 → TRUE\n",
      "P(not A and not B): 0.2 → TRUE\n",
      "P(not A and B): 0.5 → TRUE\n"
     ]
    }
   ],
   "source": [
    "# Given values\n",
    "p_A = 0.3\n",
    "p_B = 0.6\n",
    "p_A_and_B = 0.1\n",
    "\n",
    "# 1. P(not A) = 1 - P(A)\n",
    "p_not_A = 1 - p_A\n",
    "print(f\"P(not A): {p_not_A:.1f} → TRUE\")\n",
    "\n",
    "# 2. P(A or B) = P(A) + P(B) - P(A and B)\n",
    "p_A_or_B = p_A + p_B - p_A_and_B\n",
    "print(f\"P(A or B): {p_A_or_B:.1f} → FALSE (if claimed otherwise)\")\n",
    "\n",
    "# 3. P(A and not B) = P(A) - P(A and B)\n",
    "p_A_and_not_B = p_A - p_A_and_B\n",
    "print(f\"P(A and not B): {p_A_and_not_B:.1f} → TRUE\")\n",
    "\n",
    "# 4. P(A or not A) = 1 (always true, covers full sample space)\n",
    "p_A_or_not_A = 1\n",
    "print(f\"P(A or not A): {p_A_or_not_A} → TRUE\")\n",
    "\n",
    "# 5. P(A and (not B or B)) = P(A)\n",
    "# since (not B or B) = full sample space → this is P(A)\n",
    "print(f\"P(A and (not B or B)) = {p_A:.1f} → TRUE\")\n",
    "\n",
    "# 6. P(not A and not B) = 1 - P(A) - P(B) + P(A and B)\n",
    "p_not_A_and_not_B = 1 - p_A - p_B + p_A_and_B\n",
    "print(f\"P(not A and not B): {p_not_A_and_not_B:.1f} → TRUE\")\n",
    "\n",
    "# 7. P(not A and B) = P(B) - P(A and B)\n",
    "p_not_A_and_B = p_B - p_A_and_B\n",
    "print(f\"P(not A and B): {p_not_A_and_B:.1f} → TRUE\")\n"
   ]
  },
  {
   "cell_type": "markdown",
   "metadata": {},
   "source": [
    "## Challenge 4\n",
    "\n",
    " * If someone flies to China, the probability of getting Covid is 1%  \n",
    " * If someone flies to Italy, the probability of getting Covid is 20%  \n",
    "\n",
    "I roll 1 dice with numbers 1, 2, 3, 4, 5, 6:  \n",
    " * If 1: I fly to Italy\n",
    " * If not 1: I fly to China\n",
    "\n",
    "During my trip, I got Covid. What is the probability that I flew to China?"
   ]
  },
  {
   "cell_type": "code",
   "execution_count": 5,
   "metadata": {},
   "outputs": [
    {
     "name": "stdout",
     "output_type": "stream",
     "text": [
      "Probability you flew to China given that you got COVID: 0.200\n"
     ]
    }
   ],
   "source": [
    "# Travel probabilities\n",
    "p_italy = 1/6\n",
    "p_china = 5/6\n",
    "\n",
    "# Conditional probabilities of getting COVID\n",
    "p_covid_given_italy = 0.20\n",
    "p_covid_given_china = 0.01\n",
    "\n",
    "# Total probability of getting COVID (Law of Total Probability)\n",
    "p_covid_total = (p_covid_given_italy * p_italy) + (p_covid_given_china * p_china)\n",
    "\n",
    "# Bayes: Probability of having gone to China, given you got COVID\n",
    "p_china_given_covid = (p_covid_given_china * p_china) / p_covid_total\n",
    "\n",
    "print(f\"Probability you flew to China given that you got COVID: {p_china_given_covid:.3f}\")\n"
   ]
  },
  {
   "cell_type": "markdown",
   "metadata": {},
   "source": [
    "## BONUS\n",
    "\n",
    "You roll 2 dice. What is the probability that the sum of the numbers is 7? And 8? And 9? Then simulate 10000 times and draw a countplot."
   ]
  },
  {
   "cell_type": "markdown",
   "metadata": {},
   "source": [
    "your explanation here"
   ]
  },
  {
   "cell_type": "code",
   "execution_count": 6,
   "metadata": {},
   "outputs": [
    {
     "name": "stdout",
     "output_type": "stream",
     "text": [
      "Probability of sum 7: 0.167\n",
      "Probability of sum 8: 0.139\n",
      "Probability of sum 9: 0.111\n"
     ]
    }
   ],
   "source": [
    "from collections import Counter\n",
    "\n",
    "# All possible outcomes of rolling two dice\n",
    "outcomes = [(i, j) for i in range(1, 7) for j in range(1, 7)]\n",
    "sums = [sum(pair) for pair in outcomes]\n",
    "\n",
    "# Count frequency of each sum\n",
    "sum_counts = Counter(sums)\n",
    "\n",
    "# Total outcomes\n",
    "total_outcomes = 36\n",
    "\n",
    "# Probabilities\n",
    "prob_7 = sum_counts[7] / total_outcomes\n",
    "prob_8 = sum_counts[8] / total_outcomes\n",
    "prob_9 = sum_counts[9] / total_outcomes\n",
    "\n",
    "print(f\"Probability of sum 7: {prob_7:.3f}\")\n",
    "print(f\"Probability of sum 8: {prob_8:.3f}\")\n",
    "print(f\"Probability of sum 9: {prob_9:.3f}\")\n"
   ]
  }
 ],
 "metadata": {
  "kernelspec": {
   "display_name": "Python 3",
   "language": "python",
   "name": "python3"
  },
  "language_info": {
   "codemirror_mode": {
    "name": "ipython",
    "version": 3
   },
   "file_extension": ".py",
   "mimetype": "text/x-python",
   "name": "python",
   "nbconvert_exporter": "python",
   "pygments_lexer": "ipython3",
   "version": "3.12.6"
  },
  "toc": {
   "base_numbering": 1,
   "nav_menu": {},
   "number_sections": false,
   "sideBar": true,
   "skip_h1_title": false,
   "title_cell": "Table of Contents",
   "title_sidebar": "Contents",
   "toc_cell": false,
   "toc_position": {
    "height": "calc(100% - 180px)",
    "left": "10px",
    "top": "150px",
    "width": "296.475px"
   },
   "toc_section_display": true,
   "toc_window_display": false
  },
  "varInspector": {
   "cols": {
    "lenName": 16,
    "lenType": 16,
    "lenVar": 40
   },
   "kernels_config": {
    "python": {
     "delete_cmd_postfix": "",
     "delete_cmd_prefix": "del ",
     "library": "var_list.py",
     "varRefreshCmd": "print(var_dic_list())"
    },
    "r": {
     "delete_cmd_postfix": ") ",
     "delete_cmd_prefix": "rm(",
     "library": "var_list.r",
     "varRefreshCmd": "cat(var_dic_list()) "
    }
   },
   "types_to_exclude": [
    "module",
    "function",
    "builtin_function_or_method",
    "instance",
    "_Feature"
   ],
   "window_display": false
  }
 },
 "nbformat": 4,
 "nbformat_minor": 2
}
